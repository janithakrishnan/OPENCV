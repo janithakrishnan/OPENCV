{
 "cells": [
  {
   "cell_type": "code",
   "execution_count": 1,
   "id": "045969ed",
   "metadata": {},
   "outputs": [
    {
     "name": "stdout",
     "output_type": "stream",
     "text": [
      "Printing .jpg converted to pixel values\n",
      " [[[ 88 129  92]\n",
      "  [ 88 129  92]\n",
      "  [ 89 130  92]\n",
      "  ...\n",
      "  [ 95 108  82]\n",
      "  [ 93 106  80]\n",
      "  [ 95 109  85]]\n",
      "\n",
      " [[ 90 131  94]\n",
      "  [ 90 131  94]\n",
      "  [ 90 131  93]\n",
      "  ...\n",
      "  [ 96 109  83]\n",
      "  [ 94 107  81]\n",
      "  [ 93 107  83]]\n",
      "\n",
      " [[ 92 133  96]\n",
      "  [ 92 133  96]\n",
      "  [ 94 133  95]\n",
      "  ...\n",
      "  [ 97 110  84]\n",
      "  [ 95 108  82]\n",
      "  [ 97 111  87]]\n",
      "\n",
      " ...\n",
      "\n",
      " [[ 26  21  18]\n",
      "  [ 26  21  18]\n",
      "  [ 26  21  18]\n",
      "  ...\n",
      "  [232 221 253]\n",
      "  [232 221 253]\n",
      "  [231 220 252]]\n",
      "\n",
      " [[ 26  21  18]\n",
      "  [ 26  21  18]\n",
      "  [ 26  21  18]\n",
      "  ...\n",
      "  [232 221 253]\n",
      "  [232 221 253]\n",
      "  [231 220 253]]\n",
      "\n",
      " [[ 26  21  18]\n",
      "  [ 26  21  18]\n",
      "  [ 26  21  18]\n",
      "  ...\n",
      "  [230 219 251]\n",
      "  [229 218 250]\n",
      "  [231 220 253]]]\n",
      "Type of variable image <class 'numpy.ndarray'>\n",
      "Shape of numpy array (1000, 665, 3)\n"
     ]
    }
   ],
   "source": [
    "import cv2\n",
    "url='images/parrot.jpg'\n",
    "image=cv2.imread(url)\n",
    "#print numpy array of pixel values\n",
    "print(\"Printing .jpg converted to pixel values\\n\", image)\n",
    "print(\"Type of variable image\",type(image))\n",
    "print(\"Shape of numpy array\",image.shape)"
   ]
  },
  {
   "cell_type": "code",
   "execution_count": null,
   "id": "10d6643d",
   "metadata": {},
   "outputs": [
    {
     "name": "stdout",
     "output_type": "stream",
     "text": [
      "Visualising the Image\n",
      "\n"
     ]
    },
    {
     "data": {
      "text/plain": [
       "-1"
      ]
     },
     "execution_count": 3,
     "metadata": {},
     "output_type": "execute_result"
    },
    {
     "ename": "",
     "evalue": "",
     "output_type": "error",
     "traceback": [
      "\u001b[1;31mThe Kernel crashed while executing code in the current cell or a previous cell. \n",
      "\u001b[1;31mPlease review the code in the cell(s) to identify a possible cause of the failure. \n",
      "\u001b[1;31mClick <a href='https://aka.ms/vscodeJupyterKernelCrash'>here</a> for more info. \n",
      "\u001b[1;31mView Jupyter <a href='command:jupyter.viewOutput'>log</a> for further details."
     ]
    }
   ],
   "source": [
    "print(\"Visualising the Image\\n\")\n",
    "cv2.imshow('frame',image)\n",
    "cv2.waitKey(10)"
   ]
  },
  {
   "cell_type": "code",
   "execution_count": 2,
   "id": "1d3e94bf",
   "metadata": {},
   "outputs": [
    {
     "name": "stdout",
     "output_type": "stream",
     "text": [
      "New image saves as images/new_parrot.jpg\n"
     ]
    }
   ],
   "source": [
    "#Write an image to a Directoty (Converting and storing numpy array as a new image file)\n",
    "cv2.imwrite('images/new_parrot.jpg',image)\n",
    "print(\"New image saves as images/new_parrot.jpg\")"
   ]
  },
  {
   "cell_type": "code",
   "execution_count": null,
   "id": "241caad1",
   "metadata": {},
   "outputs": [
    {
     "name": "stdout",
     "output_type": "stream",
     "text": [
      "Shape of Resized image (500, 300, 3)\n"
     ]
    },
    {
     "ename": "",
     "evalue": "",
     "output_type": "error",
     "traceback": [
      "\u001b[1;31mThe Kernel crashed while executing code in the current cell or a previous cell. \n",
      "\u001b[1;31mPlease review the code in the cell(s) to identify a possible cause of the failure. \n",
      "\u001b[1;31mClick <a href='https://aka.ms/vscodeJupyterKernelCrash'>here</a> for more info. \n",
      "\u001b[1;31mView Jupyter <a href='command:jupyter.viewOutput'>log</a> for further details."
     ]
    }
   ],
   "source": [
    "#Resizing\n",
    "res_image=cv2.resize(image,(300,500))\n",
    "print(\"Shape of Resized image\",res_image.shape)\n",
    "cv2.imshow('frame',res_image)"
   ]
  },
  {
   "cell_type": "code",
   "execution_count": null,
   "id": "cc02631e",
   "metadata": {},
   "outputs": [
    {
     "ename": "error",
     "evalue": "OpenCV(4.7.0) :-1: error: (-5:Bad argument) in function 'imshow'\n> Overload resolution failed:\n>  - imshow() missing required argument 'mat' (pos 2)\n>  - imshow() missing required argument 'mat' (pos 2)\n>  - imshow() missing required argument 'mat' (pos 2)\n",
     "output_type": "error",
     "traceback": [
      "\u001b[0;31m---------------------------------------------------------------------------\u001b[0m",
      "\u001b[0;31merror\u001b[0m                                     Traceback (most recent call last)",
      "Cell \u001b[0;32mIn[6], line 3\u001b[0m\n\u001b[1;32m      1\u001b[0m \u001b[38;5;66;03m#ColorSpace\u001b[39;00m\n\u001b[1;32m      2\u001b[0m image_rgb\u001b[38;5;241m=\u001b[39mcv2\u001b[38;5;241m.\u001b[39mcvtColor(image,cv2\u001b[38;5;241m.\u001b[39mCOLOR_BGR2RGB)\n\u001b[0;32m----> 3\u001b[0m \u001b[43mcv2\u001b[49m\u001b[38;5;241;43m.\u001b[39;49m\u001b[43mimshow\u001b[49m\u001b[43m(\u001b[49m\u001b[43mimage_rgb\u001b[49m\u001b[43m)\u001b[49m\n\u001b[1;32m      4\u001b[0m cv2\u001b[38;5;241m.\u001b[39mwaitkey(\u001b[38;5;241m5\u001b[39m)\n",
      "\u001b[0;31merror\u001b[0m: OpenCV(4.7.0) :-1: error: (-5:Bad argument) in function 'imshow'\n> Overload resolution failed:\n>  - imshow() missing required argument 'mat' (pos 2)\n>  - imshow() missing required argument 'mat' (pos 2)\n>  - imshow() missing required argument 'mat' (pos 2)\n"
     ]
    }
   ],
   "source": [
    "#ColorSpace\n",
    "image_rgb=cv2.cvtColor(image,cv2.COLOR_BGR2RGB)\n",
    "cv2.imshow('RGB',image_rgb)\n",
    "cv2.waitkey(5)\n"
   ]
  },
  {
   "cell_type": "code",
   "execution_count": null,
   "id": "dd0e96fe",
   "metadata": {},
   "outputs": [],
   "source": [
    "#Convert Colorspace BGR to GRAY\n",
    "image_gray=cv2.cvtColor(image,cv2.COLOR_BGR2GRAY)\n",
    "cv2.imshow('GRAY',image_gray)\n",
    "cv2.waitkey(5)\n"
   ]
  },
  {
   "cell_type": "code",
   "execution_count": null,
   "id": "d2aa63da",
   "metadata": {},
   "outputs": [],
   "source": [
    "#BGR to HSV\n",
    "image_hsv=cv2.cvtColor(image,cv2.COLOR_BGR2HSV)\n",
    "cv2.imshow('HSV',image_hsv)\n",
    "cv2.waitkey(5)"
   ]
  },
  {
   "cell_type": "code",
   "execution_count": null,
   "id": "198819cc",
   "metadata": {},
   "outputs": [],
   "source": [
    "#Thresholding\n",
    "image_thresh=cv2.threshold(image_gray,70,255,cv2.THRESH_BINARY)\n",
    "cv2.imshow('THRESHOLDING',image_thresh)\n",
    "cv2.waitkey(5)"
   ]
  }
 ],
 "metadata": {
  "kernelspec": {
   "display_name": "Python 3",
   "language": "python",
   "name": "python3"
  },
  "language_info": {
   "codemirror_mode": {
    "name": "ipython",
    "version": 3
   },
   "file_extension": ".py",
   "mimetype": "text/x-python",
   "name": "python",
   "nbconvert_exporter": "python",
   "pygments_lexer": "ipython3",
   "version": "3.8.10"
  }
 },
 "nbformat": 4,
 "nbformat_minor": 5
}
